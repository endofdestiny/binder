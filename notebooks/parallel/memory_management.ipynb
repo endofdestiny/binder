{
 "cells": [
  {
   "cell_type": "markdown",
   "metadata": {},
   "source": [
    "## Memory Management in Python"
   ]
  },
  {
   "cell_type": "code",
   "execution_count": 1,
   "metadata": {
    "collapsed": true
   },
   "outputs": [],
   "source": [
    "import psutil, os"
   ]
  },
  {
   "cell_type": "code",
   "execution_count": 2,
   "metadata": {
    "collapsed": true
   },
   "outputs": [],
   "source": [
    "def mem_profile(unit = 'mb'):\n",
    "    \"\"\" Calculate the amout of memory being used by the python process.\n",
    "    \n",
    "    Args:\n",
    "        unit (string): the desired output unit of memory. Defaults to Megabyte. \n",
    "    \n",
    "    Returns:\n",
    "        The amout of memory in use by the python process.\n",
    "        \n",
    "    Raises:\n",
    "        ValueError: If `unit` isn't a recognised memory unit.\n",
    "    \n",
    "    \"\"\"\n",
    "    used_bytes = psutil.Process(os.getpid()).memory_info().rss\n",
    "    \n",
    "    unit = unit.lower()\n",
    "    \n",
    "    if(unit == 'mb'):\n",
    "        in_use = used_bytes/(1024**2)\n",
    "    elif(unit == 'b'):\n",
    "        in_use = used_bytes\n",
    "    elif(unit == 'kb'):\n",
    "        in_use = used_bytes/(1024**1)\n",
    "    elif(unit == 'gb'):\n",
    "        in_use = used_bytes/(1024**3)\n",
    "    elif(unit == 'tb'):\n",
    "        in_use = used_bytes/(1024**4)\n",
    "    else:\n",
    "        raise ValueError(\"unit must be one of {'b','kb,'mb','gb','tb'}\")\n",
    "    \n",
    "    return in_use"
   ]
  },
  {
   "cell_type": "markdown",
   "metadata": {},
   "source": [
    "### Test Suite\n",
    "\n",
    "In order to clear the memory of previous variables from this notebook\n",
    "\n",
    "\n",
    " > Kernel\n",
    " \n",
    " > Restart and run all \n",
    " \n",
    " "
   ]
  },
  {
   "cell_type": "code",
   "execution_count": 3,
   "metadata": {
    "collapsed": true
   },
   "outputs": [],
   "source": [
    "import unittest\n",
    "import numpy as np\n",
    "import pandas as pd\n",
    "\n",
    "\n",
    "class TestMemory(unittest.TestCase):\n",
    "    \"\"\"Testing of mem_profile\"\"\"\n",
    "    \n",
    "    one_mb_float = (1024 ** 2) // 8  # Number of floats that fill 1 MB of memory\n",
    "    n_mb = 100\n",
    "    array_size = n_mb*one_mb_float\n",
    "    \n",
    "    def test_np_array(self):\n",
    "        m0 = mem_profile()          # memory in use before variable creation\n",
    "        _ = np.random.randn(self.array_size) \n",
    "        m1 = mem_profile()          # memory in use after variable creation\n",
    "        np.testing.assert_almost_equal(m1 - m0, self.n_mb, decimal=1, err_msg=': incorrect for numpy memory usage', verbose=True)\n",
    "        \n",
    "        \n",
    "    def test_pd_df(self):\n",
    "        m0 = mem_profile('mb')\n",
    "        df = pd.DataFrame(np.random.randn(self.array_size))\n",
    "        df = df + 1 # pandas seems to be evaluated somewhat lazily\n",
    "        m1 = mem_profile('mb')\n",
    "        m_df = df.memory_usage(index=True).values[1] // (1024**2)   # convert to mb\n",
    "        np.testing.assert_almost_equal(m1 - m0, m_df, decimal=1, err_msg=': incorrect for pandas memory usage', verbose=True)\n",
    "        \n",
    "        \n",
    "        "
   ]
  },
  {
   "cell_type": "markdown",
   "metadata": {},
   "source": [
    "### Run Tests"
   ]
  },
  {
   "cell_type": "code",
   "execution_count": 4,
   "metadata": {},
   "outputs": [
    {
     "name": "stderr",
     "output_type": "stream",
     "text": [
      "..\n",
      "----------------------------------------------------------------------\n",
      "Ran 2 tests in 1.542s\n",
      "\n",
      "OK\n"
     ]
    }
   ],
   "source": [
    "if __name__ == '__main__':\n",
    "    unittest.main(argv=[''], exit=False)"
   ]
  }
 ],
 "metadata": {
  "kernelspec": {
   "display_name": "Python 3",
   "language": "python",
   "name": "python3"
  },
  "language_info": {
   "codemirror_mode": {
    "name": "ipython",
    "version": 3
   },
   "file_extension": ".py",
   "mimetype": "text/x-python",
   "name": "python",
   "nbconvert_exporter": "python",
   "pygments_lexer": "ipython3",
   "version": "3.6.1"
  }
 },
 "nbformat": 4,
 "nbformat_minor": 2
}
